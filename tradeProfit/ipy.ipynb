{
 "cells": [
  {
   "cell_type": "code",
   "execution_count": 1,
   "metadata": {},
   "outputs": [
    {
     "ename": "TypeError",
     "evalue": "get_date() missing 1 required positional argument: 'self'",
     "output_type": "error",
     "traceback": [
      "\u001b[0;31m---------------------------------------------------------------------------\u001b[0m",
      "\u001b[0;31mTypeError\u001b[0m                                 Traceback (most recent call last)",
      "Cell \u001b[0;32mIn[1], line 39\u001b[0m\n\u001b[1;32m     36\u001b[0m     \u001b[39mdef\u001b[39;00m \u001b[39mget_source_data\u001b[39m(\u001b[39mself\u001b[39m):\n\u001b[1;32m     37\u001b[0m         \u001b[39mreturn\u001b[39;00m \u001b[39mself\u001b[39m\u001b[39m.\u001b[39msource\n\u001b[0;32m---> 39\u001b[0m \u001b[39mprint\u001b[39m(DataFeed\u001b[39m.\u001b[39;49mget_date())\n",
      "\u001b[0;31mTypeError\u001b[0m: get_date() missing 1 required positional argument: 'self'"
     ]
    }
   ],
   "source": [
    "import pandas as pd\n",
    "CSV_PATH = '../data/merge_bond_info-2023-04-03.csv'\n",
    "\n",
    "class DataFeed():\n",
    "    '''\n",
    "    数据驱动\n",
    "    '''\n",
    "\n",
    "    def __init__(self):\n",
    "        self.csv_path = CSV_PATH\n",
    "        self.date_list, self.source = self.feed()\n",
    "\n",
    "    # 使用 Pandas 库中的 read_csv() 方法读取指定路径下的 CSV 文件，同时指定编码为 UTF-8，并且将 tickerEqu、tickerBond 和 secID_x 这些列的数据类型设置为字符串。\n",
    "    # 如果 df（即 DataFrame）中包含 Unnamed: 0 这一列，则使用 del 关键字将其从 DataFrame 中删除。\n",
    "    # 将 DataFrame 中的 'tradeDate' 这一列的数据类型转换成 datetime 格式，并将其作为索引，以便后面按照日期进行筛选。\n",
    "    # 获取所有交易日（tradeDate）的集合，并将其转换成字符串格式的列表。\n",
    "    # 将上一步得到的日期列表进行排序。\n",
    "    # 返回日期列表和 DataFrame。\n",
    "    def feed(self):\n",
    "        df = pd.read_csv(self.csv_path,\n",
    "                         encoding='utf8',\n",
    "                         dtype={'tickerEqu': str, 'tickerBond': str, 'secID_x': str},\n",
    "                         )\n",
    "        if 'Unnamed: 0' in df.columns:\n",
    "            del df['Unnamed: 0']\n",
    "        df['tradeDate'] = pd.to_datetime(df['tradeDate'], format='%Y-%m-%d')\n",
    "        df = df.set_index('tradeDate')\n",
    "        date_set = set(df.index.tolist())\n",
    "        date_list = list(map(lambda x: x.strftime('%Y-%m-%d'), date_set))\n",
    "        date_list.sort()\n",
    "        return date_list, df\n",
    "\n",
    "    def get_date(self):\n",
    "        return self.date_list\n",
    "\n",
    "    def get_source_data(self):\n",
    "        return self.source\n",
    "\n",
    "print(DataFeed.get_date())"
   ]
  }
 ],
 "metadata": {
  "kernelspec": {
   "display_name": "Python 3.9.6 64-bit",
   "language": "python",
   "name": "python3"
  },
  "language_info": {
   "codemirror_mode": {
    "name": "ipython",
    "version": 3
   },
   "file_extension": ".py",
   "mimetype": "text/x-python",
   "name": "python",
   "nbconvert_exporter": "python",
   "pygments_lexer": "ipython3",
   "version": "3.9.6"
  },
  "orig_nbformat": 4,
  "vscode": {
   "interpreter": {
    "hash": "31f2aee4e71d21fbe5cf8b01ff0e069b9275f58929596ceb00d14d90e3e16cd6"
   }
  }
 },
 "nbformat": 4,
 "nbformat_minor": 2
}
